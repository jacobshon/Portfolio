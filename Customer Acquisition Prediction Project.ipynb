{
 "cells": [
  {
   "cell_type": "code",
   "execution_count": null,
   "id": "0fe0f60e",
   "metadata": {
    "_cell_guid": "b1076dfc-b9ad-4769-8c92-a6c4dae69d19",
    "_uuid": "8f2839f25d086af736a60e9eeb907d3b93b6e0e5",
    "execution": {
     "iopub.execute_input": "2022-09-14T04:06:21.852980Z",
     "iopub.status.busy": "2022-09-14T04:06:21.851827Z",
     "iopub.status.idle": "2022-09-14T04:06:24.123306Z",
     "shell.execute_reply": "2022-09-14T04:06:24.122137Z"
    },
    "papermill": {
     "duration": 2.289754,
     "end_time": "2022-09-14T04:06:24.126842",
     "exception": false,
     "start_time": "2022-09-14T04:06:21.837088",
     "status": "completed"
    },
    "tags": []
   },
   "outputs": [],
   "source": [
    "import numpy as np # linear algebra\n",
    "import pandas as pd # data processing, CSV file I/O (e.g. pd.read_csv)\n",
    "\n",
    "# Input data files are available in the read-only \"../input/\" directory\n",
    "# For example, running this (by clicking run or pressing Shift+Enter) will list all files under the input directory\n",
    "import matplotlib.pyplot as plt\n",
    "import seaborn as sns\n",
    "import plotly.express as px\n",
    "\n",
    "# You can write up to 20GB to the current directory (/kaggle/working/) that gets preserved as output when you create a version using \"Save & Run All\" \n",
    "# You can also write temporary files to /kaggle/temp/, but they won't be saved outside of the current session"
   ]
  },
  {
   "cell_type": "code",
   "execution_count": null,
   "id": "a16a4c6b",
   "metadata": {
    "execution": {
     "iopub.execute_input": "2022-09-14T04:06:24.146613Z",
     "iopub.status.busy": "2022-09-14T04:06:24.145982Z",
     "iopub.status.idle": "2022-09-14T04:06:24.676747Z",
     "shell.execute_reply": "2022-09-14T04:06:24.675757Z"
    },
    "papermill": {
     "duration": 0.543973,
     "end_time": "2022-09-14T04:06:24.679791",
     "exception": false,
     "start_time": "2022-09-14T04:06:24.135818",
     "status": "completed"
    },
    "tags": []
   },
   "outputs": [],
   "source": [
    "df=pd.read_csv('../input/medias-cost-prediction-in-foodmart/media prediction and its cost.csv')"
   ]
  },
  {
   "cell_type": "code",
   "execution_count": null,
   "id": "aa9fa15e",
   "metadata": {
    "execution": {
     "iopub.execute_input": "2022-09-14T04:06:24.699808Z",
     "iopub.status.busy": "2022-09-14T04:06:24.698137Z",
     "iopub.status.idle": "2022-09-14T04:06:24.739651Z",
     "shell.execute_reply": "2022-09-14T04:06:24.738585Z"
    },
    "papermill": {
     "duration": 0.054045,
     "end_time": "2022-09-14T04:06:24.742617",
     "exception": false,
     "start_time": "2022-09-14T04:06:24.688572",
     "status": "completed"
    },
    "tags": []
   },
   "outputs": [],
   "source": [
    "df.head()"
   ]
  },
  {
   "cell_type": "code",
   "execution_count": null,
   "id": "c40ef468",
   "metadata": {
    "execution": {
     "iopub.execute_input": "2022-09-14T04:06:24.762422Z",
     "iopub.status.busy": "2022-09-14T04:06:24.762030Z",
     "iopub.status.idle": "2022-09-14T04:06:24.768204Z",
     "shell.execute_reply": "2022-09-14T04:06:24.767140Z"
    },
    "papermill": {
     "duration": 0.018597,
     "end_time": "2022-09-14T04:06:24.770427",
     "exception": false,
     "start_time": "2022-09-14T04:06:24.751830",
     "status": "completed"
    },
    "tags": []
   },
   "outputs": [],
   "source": [
    "df.shape"
   ]
  },
  {
   "cell_type": "code",
   "execution_count": null,
   "id": "7443dfe6",
   "metadata": {
    "execution": {
     "iopub.execute_input": "2022-09-14T04:06:24.790554Z",
     "iopub.status.busy": "2022-09-14T04:06:24.789915Z",
     "iopub.status.idle": "2022-09-14T04:06:24.860023Z",
     "shell.execute_reply": "2022-09-14T04:06:24.859170Z"
    },
    "papermill": {
     "duration": 0.083756,
     "end_time": "2022-09-14T04:06:24.863236",
     "exception": false,
     "start_time": "2022-09-14T04:06:24.779480",
     "status": "completed"
    },
    "tags": []
   },
   "outputs": [],
   "source": [
    "df.info()"
   ]
  },
  {
   "cell_type": "code",
   "execution_count": null,
   "id": "b20a5c72",
   "metadata": {
    "execution": {
     "iopub.execute_input": "2022-09-14T04:06:24.883757Z",
     "iopub.status.busy": "2022-09-14T04:06:24.883322Z",
     "iopub.status.idle": "2022-09-14T04:06:24.937768Z",
     "shell.execute_reply": "2022-09-14T04:06:24.936589Z"
    },
    "papermill": {
     "duration": 0.06728,
     "end_time": "2022-09-14T04:06:24.940247",
     "exception": false,
     "start_time": "2022-09-14T04:06:24.872967",
     "status": "completed"
    },
    "tags": []
   },
   "outputs": [],
   "source": [
    "df.isnull().sum()"
   ]
  },
  {
   "cell_type": "markdown",
   "id": "0bcbb4ef",
   "metadata": {
    "papermill": {
     "duration": 0.009028,
     "end_time": "2022-09-14T04:06:24.958620",
     "exception": false,
     "start_time": "2022-09-14T04:06:24.949592",
     "status": "completed"
    },
    "tags": []
   },
   "source": [
    "We can see that since that there is a total of 0 num sum values, there are no missing values."
   ]
  },
  {
   "cell_type": "code",
   "execution_count": null,
   "id": "e8d4fa67",
   "metadata": {
    "execution": {
     "iopub.execute_input": "2022-09-14T04:06:24.980030Z",
     "iopub.status.busy": "2022-09-14T04:06:24.979636Z",
     "iopub.status.idle": "2022-09-14T04:06:25.609936Z",
     "shell.execute_reply": "2022-09-14T04:06:25.608765Z"
    },
    "papermill": {
     "duration": 0.643614,
     "end_time": "2022-09-14T04:06:25.612588",
     "exception": false,
     "start_time": "2022-09-14T04:06:24.968974",
     "status": "completed"
    },
    "tags": []
   },
   "outputs": [],
   "source": [
    "corr=df.corr()\n",
    "sns.heatmap(corr)"
   ]
  },
  {
   "cell_type": "markdown",
   "id": "c221ff25",
   "metadata": {
    "papermill": {
     "duration": 0.0101,
     "end_time": "2022-09-14T04:06:25.633121",
     "exception": false,
     "start_time": "2022-09-14T04:06:25.623021",
     "status": "completed"
    },
    "tags": []
   },
   "source": [
    "We can see for the exploratory data analysis, the heatmap is a good indication on where the correlation is labeled for exploratory data analysis. "
   ]
  },
  {
   "cell_type": "code",
   "execution_count": null,
   "id": "bb81ec02",
   "metadata": {
    "execution": {
     "iopub.execute_input": "2022-09-14T04:06:25.655988Z",
     "iopub.status.busy": "2022-09-14T04:06:25.655148Z",
     "iopub.status.idle": "2022-09-14T04:06:25.945761Z",
     "shell.execute_reply": "2022-09-14T04:06:25.944610Z"
    },
    "papermill": {
     "duration": 0.304522,
     "end_time": "2022-09-14T04:06:25.948302",
     "exception": false,
     "start_time": "2022-09-14T04:06:25.643780",
     "status": "completed"
    },
    "tags": []
   },
   "outputs": [],
   "source": [
    "sns.histplot(df['cost'])"
   ]
  },
  {
   "cell_type": "markdown",
   "id": "1fcf5d51",
   "metadata": {
    "papermill": {
     "duration": 0.010137,
     "end_time": "2022-09-14T04:06:25.968904",
     "exception": false,
     "start_time": "2022-09-14T04:06:25.958767",
     "status": "completed"
    },
    "tags": []
   },
   "source": [
    "After looking over the data and observing what the types of data we are dealing with, we can now begin to take a look over the Data analysis and find the customer aquisition."
   ]
  },
  {
   "cell_type": "markdown",
   "id": "8364b2df",
   "metadata": {
    "papermill": {
     "duration": 0.009996,
     "end_time": "2022-09-14T04:06:25.989320",
     "exception": false,
     "start_time": "2022-09-14T04:06:25.979324",
     "status": "completed"
    },
    "tags": []
   },
   "source": [
    "# Part 2 - EDA and Data Engineering"
   ]
  },
  {
   "cell_type": "code",
   "execution_count": null,
   "id": "14a160ee",
   "metadata": {
    "execution": {
     "iopub.execute_input": "2022-09-14T04:06:26.012167Z",
     "iopub.status.busy": "2022-09-14T04:06:26.011765Z",
     "iopub.status.idle": "2022-09-14T04:06:26.042466Z",
     "shell.execute_reply": "2022-09-14T04:06:26.041234Z"
    },
    "papermill": {
     "duration": 0.04514,
     "end_time": "2022-09-14T04:06:26.044978",
     "exception": false,
     "start_time": "2022-09-14T04:06:25.999838",
     "status": "completed"
    },
    "tags": []
   },
   "outputs": [],
   "source": [
    "df.head()"
   ]
  },
  {
   "cell_type": "code",
   "execution_count": null,
   "id": "16d64878",
   "metadata": {
    "execution": {
     "iopub.execute_input": "2022-09-14T04:06:26.068971Z",
     "iopub.status.busy": "2022-09-14T04:06:26.068582Z",
     "iopub.status.idle": "2022-09-14T04:06:26.337110Z",
     "shell.execute_reply": "2022-09-14T04:06:26.335942Z"
    },
    "papermill": {
     "duration": 0.283294,
     "end_time": "2022-09-14T04:06:26.339751",
     "exception": false,
     "start_time": "2022-09-14T04:06:26.056457",
     "status": "completed"
    },
    "tags": []
   },
   "outputs": [],
   "source": [
    "sns.catplot(data=df[:1000],x='food_department',y='unit_sales(in millions)')"
   ]
  },
  {
   "cell_type": "code",
   "execution_count": null,
   "id": "c309e8f7",
   "metadata": {
    "execution": {
     "iopub.execute_input": "2022-09-14T04:06:26.364883Z",
     "iopub.status.busy": "2022-09-14T04:06:26.363744Z",
     "iopub.status.idle": "2022-09-14T04:06:27.649470Z",
     "shell.execute_reply": "2022-09-14T04:06:27.648518Z"
    },
    "papermill": {
     "duration": 1.316677,
     "end_time": "2022-09-14T04:06:27.667838",
     "exception": false,
     "start_time": "2022-09-14T04:06:26.351161",
     "status": "completed"
    },
    "tags": []
   },
   "outputs": [],
   "source": [
    "fig=px.scatter_3d(df,x='store_cost(in millions)',y='store_sales(in millions)',z='cost',color='sales_country',template='plotly_dark')\n",
    "fig.show()"
   ]
  },
  {
   "cell_type": "markdown",
   "id": "fcbff226",
   "metadata": {
    "papermill": {
     "duration": 0.024481,
     "end_time": "2022-09-14T04:06:27.716167",
     "exception": false,
     "start_time": "2022-09-14T04:06:27.691686",
     "status": "completed"
    },
    "tags": []
   },
   "source": [
    "Now checking the data for duplicate values"
   ]
  },
  {
   "cell_type": "code",
   "execution_count": null,
   "id": "a2cef7fc",
   "metadata": {
    "execution": {
     "iopub.execute_input": "2022-09-14T04:06:27.766395Z",
     "iopub.status.busy": "2022-09-14T04:06:27.765616Z",
     "iopub.status.idle": "2022-09-14T04:06:27.773002Z",
     "shell.execute_reply": "2022-09-14T04:06:27.772014Z"
    },
    "papermill": {
     "duration": 0.035383,
     "end_time": "2022-09-14T04:06:27.775327",
     "exception": false,
     "start_time": "2022-09-14T04:06:27.739944",
     "status": "completed"
    },
    "tags": []
   },
   "outputs": [],
   "source": [
    "df.shape"
   ]
  },
  {
   "cell_type": "code",
   "execution_count": null,
   "id": "17d23471",
   "metadata": {
    "execution": {
     "iopub.execute_input": "2022-09-14T04:06:27.825311Z",
     "iopub.status.busy": "2022-09-14T04:06:27.824497Z",
     "iopub.status.idle": "2022-09-14T04:06:27.970458Z",
     "shell.execute_reply": "2022-09-14T04:06:27.969142Z"
    },
    "papermill": {
     "duration": 0.174062,
     "end_time": "2022-09-14T04:06:27.973086",
     "exception": false,
     "start_time": "2022-09-14T04:06:27.799024",
     "status": "completed"
    },
    "tags": []
   },
   "outputs": [],
   "source": [
    "df.duplicated().value_counts()"
   ]
  },
  {
   "cell_type": "markdown",
   "id": "0c810948",
   "metadata": {
    "papermill": {
     "duration": 0.023053,
     "end_time": "2022-09-14T04:06:28.019579",
     "exception": false,
     "start_time": "2022-09-14T04:06:27.996526",
     "status": "completed"
    },
    "tags": []
   },
   "source": [
    "Since the total amount of the data size doesn't return any value for duplication, there are no duplicate values"
   ]
  },
  {
   "cell_type": "code",
   "execution_count": null,
   "id": "db407ddd",
   "metadata": {
    "execution": {
     "iopub.execute_input": "2022-09-14T04:06:28.068609Z",
     "iopub.status.busy": "2022-09-14T04:06:28.067584Z",
     "iopub.status.idle": "2022-09-14T04:06:28.123860Z",
     "shell.execute_reply": "2022-09-14T04:06:28.122576Z"
    },
    "papermill": {
     "duration": 0.083565,
     "end_time": "2022-09-14T04:06:28.126484",
     "exception": false,
     "start_time": "2022-09-14T04:06:28.042919",
     "status": "completed"
    },
    "tags": []
   },
   "outputs": [],
   "source": [
    "#Missing Values imputation\n",
    "df.isnull().sum().value_counts()"
   ]
  },
  {
   "cell_type": "markdown",
   "id": "d661f6a3",
   "metadata": {
    "papermill": {
     "duration": 0.02322,
     "end_time": "2022-09-14T04:06:28.173293",
     "exception": false,
     "start_time": "2022-09-14T04:06:28.150073",
     "status": "completed"
    },
    "tags": []
   },
   "source": [
    "There are no missing values within the dataset "
   ]
  },
  {
   "cell_type": "code",
   "execution_count": null,
   "id": "9813a6ad",
   "metadata": {
    "execution": {
     "iopub.execute_input": "2022-09-14T04:06:28.222958Z",
     "iopub.status.busy": "2022-09-14T04:06:28.221881Z",
     "iopub.status.idle": "2022-09-14T04:06:28.230015Z",
     "shell.execute_reply": "2022-09-14T04:06:28.229015Z"
    },
    "papermill": {
     "duration": 0.03523,
     "end_time": "2022-09-14T04:06:28.232161",
     "exception": false,
     "start_time": "2022-09-14T04:06:28.196931",
     "status": "completed"
    },
    "tags": []
   },
   "outputs": [],
   "source": [
    "num_cols=[cols for cols in df.columns if df[cols].dtypes!='O']\n",
    "len(num_cols)"
   ]
  },
  {
   "cell_type": "code",
   "execution_count": null,
   "id": "6b39b69a",
   "metadata": {
    "execution": {
     "iopub.execute_input": "2022-09-14T04:06:28.282173Z",
     "iopub.status.busy": "2022-09-14T04:06:28.281493Z",
     "iopub.status.idle": "2022-09-14T04:06:32.354298Z",
     "shell.execute_reply": "2022-09-14T04:06:32.352918Z"
    },
    "papermill": {
     "duration": 4.101415,
     "end_time": "2022-09-14T04:06:32.357589",
     "exception": false,
     "start_time": "2022-09-14T04:06:28.256174",
     "status": "completed"
    },
    "tags": []
   },
   "outputs": [],
   "source": [
    "import statistics\n",
    "for col in num_cols:\n",
    "    a=(df[col].max()-df[col].min())/4\n",
    "    b=statistics.stdev(df[col])\n",
    "    print(col, 'Estimate', a ,'std', b)"
   ]
  },
  {
   "cell_type": "markdown",
   "id": "c1cbaae1",
   "metadata": {
    "papermill": {
     "duration": 0.024085,
     "end_time": "2022-09-14T04:06:32.406811",
     "exception": false,
     "start_time": "2022-09-14T04:06:32.382726",
     "status": "completed"
    },
    "tags": []
   },
   "source": [
    "After feature scaling is implemented, since the estimate and the Standard Deviation is low, there is no need for scaling\n",
    "\n",
    "Since the data is evenly distributed, there isn't any need to perform skewness transformation or outlier analysis"
   ]
  },
  {
   "cell_type": "code",
   "execution_count": null,
   "id": "f42bd8ce",
   "metadata": {
    "execution": {
     "iopub.execute_input": "2022-09-14T04:06:32.457814Z",
     "iopub.status.busy": "2022-09-14T04:06:32.457149Z",
     "iopub.status.idle": "2022-09-14T04:06:32.463602Z",
     "shell.execute_reply": "2022-09-14T04:06:32.462751Z"
    },
    "papermill": {
     "duration": 0.034157,
     "end_time": "2022-09-14T04:06:32.465673",
     "exception": false,
     "start_time": "2022-09-14T04:06:32.431516",
     "status": "completed"
    },
    "tags": []
   },
   "outputs": [],
   "source": [
    "#Collecting Categorial Columns\n",
    "cat_cols=[cols for cols in df.columns if df[cols].dtypes==\"O\"]\n",
    "len(cat_cols)"
   ]
  },
  {
   "cell_type": "code",
   "execution_count": null,
   "id": "9777cd2e",
   "metadata": {
    "execution": {
     "iopub.execute_input": "2022-09-14T04:06:32.516779Z",
     "iopub.status.busy": "2022-09-14T04:06:32.516375Z",
     "iopub.status.idle": "2022-09-14T04:06:32.851396Z",
     "shell.execute_reply": "2022-09-14T04:06:32.850242Z"
    },
    "papermill": {
     "duration": 0.364006,
     "end_time": "2022-09-14T04:06:32.854453",
     "exception": false,
     "start_time": "2022-09-14T04:06:32.490447",
     "status": "completed"
    },
    "tags": []
   },
   "outputs": [],
   "source": [
    "#Machine Learning\n",
    "from sklearn.compose import ColumnTransformer\n",
    "from sklearn.pipeline import Pipeline\n",
    "from sklearn.model_selection import train_test_split\n",
    "from sklearn.preprocessing import OrdinalEncoder\n",
    "# Models\n",
    "from sklearn.tree import DecisionTreeRegressor"
   ]
  },
  {
   "cell_type": "code",
   "execution_count": null,
   "id": "6edf8357",
   "metadata": {
    "execution": {
     "iopub.execute_input": "2022-09-14T04:06:32.947526Z",
     "iopub.status.busy": "2022-09-14T04:06:32.946896Z",
     "iopub.status.idle": "2022-09-14T04:06:32.977625Z",
     "shell.execute_reply": "2022-09-14T04:06:32.976311Z"
    },
    "papermill": {
     "duration": 0.100465,
     "end_time": "2022-09-14T04:06:32.980463",
     "exception": false,
     "start_time": "2022-09-14T04:06:32.879998",
     "status": "completed"
    },
    "tags": []
   },
   "outputs": [],
   "source": [
    "df.head()"
   ]
  },
  {
   "cell_type": "code",
   "execution_count": null,
   "id": "de02ea19",
   "metadata": {
    "execution": {
     "iopub.execute_input": "2022-09-14T04:06:33.033674Z",
     "iopub.status.busy": "2022-09-14T04:06:33.032656Z",
     "iopub.status.idle": "2022-09-14T04:06:33.057172Z",
     "shell.execute_reply": "2022-09-14T04:06:33.055785Z"
    },
    "papermill": {
     "duration": 0.054143,
     "end_time": "2022-09-14T04:06:33.059955",
     "exception": false,
     "start_time": "2022-09-14T04:06:33.005812",
     "status": "completed"
    },
    "tags": []
   },
   "outputs": [],
   "source": [
    "X=df.drop('cost',axis=1,inplace=False)\n",
    "Y=df['cost']"
   ]
  },
  {
   "cell_type": "code",
   "execution_count": null,
   "id": "439c6a13",
   "metadata": {
    "execution": {
     "iopub.execute_input": "2022-09-14T04:06:33.112223Z",
     "iopub.status.busy": "2022-09-14T04:06:33.111802Z",
     "iopub.status.idle": "2022-09-14T04:06:33.180858Z",
     "shell.execute_reply": "2022-09-14T04:06:33.179588Z"
    },
    "papermill": {
     "duration": 0.09889,
     "end_time": "2022-09-14T04:06:33.183749",
     "exception": false,
     "start_time": "2022-09-14T04:06:33.084859",
     "status": "completed"
    },
    "tags": []
   },
   "outputs": [],
   "source": [
    "X_train,X_test,Y_train,Y_test=train_test_split(X,Y,test_size=0.2)"
   ]
  },
  {
   "cell_type": "code",
   "execution_count": null,
   "id": "8b9541f6",
   "metadata": {
    "execution": {
     "iopub.execute_input": "2022-09-14T04:06:33.236059Z",
     "iopub.status.busy": "2022-09-14T04:06:33.235641Z",
     "iopub.status.idle": "2022-09-14T04:06:33.241645Z",
     "shell.execute_reply": "2022-09-14T04:06:33.240669Z"
    },
    "papermill": {
     "duration": 0.03533,
     "end_time": "2022-09-14T04:06:33.244289",
     "exception": false,
     "start_time": "2022-09-14T04:06:33.208959",
     "status": "completed"
    },
    "tags": []
   },
   "outputs": [],
   "source": [
    "print(X_train.shape)\n",
    "print(X_test.shape)\n",
    "print(Y_train.shape)\n",
    "print(Y_test.shape)"
   ]
  },
  {
   "cell_type": "code",
   "execution_count": null,
   "id": "ffc3057a",
   "metadata": {
    "execution": {
     "iopub.execute_input": "2022-09-14T04:06:33.298033Z",
     "iopub.status.busy": "2022-09-14T04:06:33.296855Z",
     "iopub.status.idle": "2022-09-14T04:06:33.302320Z",
     "shell.execute_reply": "2022-09-14T04:06:33.301184Z"
    },
    "papermill": {
     "duration": 0.035172,
     "end_time": "2022-09-14T04:06:33.304628",
     "exception": false,
     "start_time": "2022-09-14T04:06:33.269456",
     "status": "completed"
    },
    "tags": []
   },
   "outputs": [],
   "source": [
    "ct=ColumnTransformer([('Step1',OrdinalEncoder(),cat_cols)])"
   ]
  },
  {
   "cell_type": "markdown",
   "id": "5247d3e4",
   "metadata": {
    "papermill": {
     "duration": 0.02525,
     "end_time": "2022-09-14T04:06:33.354897",
     "exception": false,
     "start_time": "2022-09-14T04:06:33.329647",
     "status": "completed"
    },
    "tags": []
   },
   "source": [
    "#### Since the data contains multiple data types, Column Transformer is used to take the catigorial features and numerica features to preprocess the pipeline"
   ]
  },
  {
   "cell_type": "code",
   "execution_count": null,
   "id": "93cdbf8c",
   "metadata": {
    "execution": {
     "iopub.execute_input": "2022-09-14T04:06:33.407431Z",
     "iopub.status.busy": "2022-09-14T04:06:33.407002Z",
     "iopub.status.idle": "2022-09-14T04:06:33.412438Z",
     "shell.execute_reply": "2022-09-14T04:06:33.411238Z"
    },
    "papermill": {
     "duration": 0.035366,
     "end_time": "2022-09-14T04:06:33.415624",
     "exception": false,
     "start_time": "2022-09-14T04:06:33.380258",
     "status": "completed"
    },
    "tags": []
   },
   "outputs": [],
   "source": [
    "pipeline=Pipeline([('Coltf_step',ct),('Decision Tree',DecisionTreeRegressor())])"
   ]
  },
  {
   "cell_type": "markdown",
   "id": "b344e5d1",
   "metadata": {
    "papermill": {
     "duration": 0.024617,
     "end_time": "2022-09-14T04:06:33.465962",
     "exception": false,
     "start_time": "2022-09-14T04:06:33.441345",
     "status": "completed"
    },
    "tags": []
   },
   "source": [
    "#### Pipeline is made utilizing the decision tree regressor to determine the decision accuracy for training data"
   ]
  },
  {
   "cell_type": "code",
   "execution_count": null,
   "id": "a1d5bb8f",
   "metadata": {
    "execution": {
     "iopub.execute_input": "2022-09-14T04:06:33.517697Z",
     "iopub.status.busy": "2022-09-14T04:06:33.517030Z",
     "iopub.status.idle": "2022-09-14T04:06:34.020116Z",
     "shell.execute_reply": "2022-09-14T04:06:34.018799Z"
    },
    "papermill": {
     "duration": 0.531897,
     "end_time": "2022-09-14T04:06:34.022702",
     "exception": false,
     "start_time": "2022-09-14T04:06:33.490805",
     "status": "completed"
    },
    "tags": []
   },
   "outputs": [],
   "source": [
    "pipeline.fit(X_train,Y_train)"
   ]
  },
  {
   "cell_type": "markdown",
   "id": "62626ce0",
   "metadata": {
    "papermill": {
     "duration": 0.025148,
     "end_time": "2022-09-14T04:06:34.073026",
     "exception": false,
     "start_time": "2022-09-14T04:06:34.047878",
     "status": "completed"
    },
    "tags": []
   },
   "source": [
    " Pipeline is made, now we can train and test"
   ]
  },
  {
   "cell_type": "code",
   "execution_count": null,
   "id": "c25f999c",
   "metadata": {
    "execution": {
     "iopub.execute_input": "2022-09-14T04:06:34.126444Z",
     "iopub.status.busy": "2022-09-14T04:06:34.126041Z",
     "iopub.status.idle": "2022-09-14T04:06:34.372624Z",
     "shell.execute_reply": "2022-09-14T04:06:34.371406Z"
    },
    "papermill": {
     "duration": 0.276931,
     "end_time": "2022-09-14T04:06:34.375999",
     "exception": false,
     "start_time": "2022-09-14T04:06:34.099068",
     "status": "completed"
    },
    "tags": []
   },
   "outputs": [],
   "source": [
    "pipeline.score(X_train,Y_train)"
   ]
  },
  {
   "cell_type": "code",
   "execution_count": null,
   "id": "701b8a6e",
   "metadata": {
    "execution": {
     "iopub.execute_input": "2022-09-14T04:06:34.437568Z",
     "iopub.status.busy": "2022-09-14T04:06:34.436928Z",
     "iopub.status.idle": "2022-09-14T04:06:34.519342Z",
     "shell.execute_reply": "2022-09-14T04:06:34.518110Z"
    },
    "papermill": {
     "duration": 0.116025,
     "end_time": "2022-09-14T04:06:34.522095",
     "exception": false,
     "start_time": "2022-09-14T04:06:34.406070",
     "status": "completed"
    },
    "tags": []
   },
   "outputs": [],
   "source": [
    "pipeline.score(X_test,Y_test)"
   ]
  },
  {
   "cell_type": "markdown",
   "id": "b19de5cf",
   "metadata": {
    "papermill": {
     "duration": 0.025684,
     "end_time": "2022-09-14T04:06:34.575148",
     "exception": false,
     "start_time": "2022-09-14T04:06:34.549464",
     "status": "completed"
    },
    "tags": []
   },
   "source": [
    "With Machine Learning, the train and test is **99.8%** meaning that it is confident with extreme prejudice that we can use this model to predict future values"
   ]
  }
 ],
 "metadata": {
  "kernelspec": {
   "display_name": "Python 3.8.9 64-bit",
   "language": "python",
   "name": "python3"
  },
  "language_info": {
   "codemirror_mode": {
    "name": "ipython",
    "version": 3
   },
   "file_extension": ".py",
   "mimetype": "text/x-python",
   "name": "python",
   "nbconvert_exporter": "python",
   "pygments_lexer": "ipython3",
   "version": "3.9.6"
  },
  "papermill": {
   "default_parameters": {},
   "duration": 22.869092,
   "end_time": "2022-09-14T04:06:35.523745",
   "environment_variables": {},
   "exception": null,
   "input_path": "__notebook__.ipynb",
   "output_path": "__notebook__.ipynb",
   "parameters": {},
   "start_time": "2022-09-14T04:06:12.654653",
   "version": "2.3.4"
  },
  "vscode": {
   "interpreter": {
    "hash": "31f2aee4e71d21fbe5cf8b01ff0e069b9275f58929596ceb00d14d90e3e16cd6"
   }
  }
 },
 "nbformat": 4,
 "nbformat_minor": 5
}
